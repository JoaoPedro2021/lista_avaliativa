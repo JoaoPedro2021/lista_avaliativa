{
  "nbformat": 4,
  "nbformat_minor": 0,
  "metadata": {
    "colab": {
      "provenance": [],
      "collapsed_sections": [],
      "authorship_tag": "ABX9TyO4DABp1nY56ZQA1tzi27JW",
      "include_colab_link": true
    },
    "kernelspec": {
      "name": "python3",
      "display_name": "Python 3"
    },
    "language_info": {
      "name": "python"
    }
  },
  "cells": [
    {
      "cell_type": "markdown",
      "metadata": {
        "id": "view-in-github",
        "colab_type": "text"
      },
      "source": [
        "<a href=\"https://colab.research.google.com/github/JoaoPedro2021/lista_avaliativa/blob/main/Atividade1.ipynb\" target=\"_parent\"><img src=\"https://colab.research.google.com/assets/colab-badge.svg\" alt=\"Open In Colab\"/></a>"
      ]
    },
    {
      "cell_type": "markdown",
      "source": [
        "# Lista Atividade 01"
      ],
      "metadata": {
        "id": "aCq5hAIZGups"
      }
    },
    {
      "cell_type": "markdown",
      "source": [
        "#Exercicio 01\n",
        "##Escreva um programa que recebe três números e retorna a soma deles,porém se\n",
        "##houver números repetidos o valor deles não é contabilizado. Por exemplo, na\n",
        "##entrada (1,2,3) a resposta é 6, na entrada (3,2,3) a resposta é 2 e na entrada\n",
        "##(3,3,3) a resposta é 0. Evite testes desnecessários"
      ],
      "metadata": {
        "id": "E2d7bg4BG6cc"
      }
    },
    {
      "cell_type": "code",
      "execution_count": null,
      "metadata": {
        "id": "7aB3nHxQGheb"
      },
      "outputs": [],
      "source": [
        "try:\n",
        "  array = [];\n",
        "  noRepete = [];\n",
        "  soma = 0;\n",
        "  num1 = int(input(' Digite um numero '))\n",
        "  num2 = int(input(' Digite outro numero '))\n",
        "  num3 = int(input(' Digite mais um numero '))\n",
        "\n",
        "  array.append(num1)\n",
        "  array.append(num2)\n",
        "  array.append(num3)\n",
        "\n",
        "  if array[0] == array[1] and array[1] == array[2]:\n",
        "    print('0')\n",
        "  elif array[0] != array[1] and array[1] != array[2] and array[0] != array[2]:\n",
        "    soma =  array[0] + array[1] + array[2]\n",
        "  elif array[0] == array[1]:\n",
        "    soma = array[2]\n",
        "  elif array[1] == array[2]:\n",
        "    soma = array[0]\n",
        "  elif array[0] == array[2]:\n",
        "    soma = array[1]\n",
        "\n",
        "  print(soma)\n",
        "except ValueError:\n",
        "  print(\"Digite um valor valido\")\n"
      ]
    },
    {
      "cell_type": "markdown",
      "source": [
        "Exercicio 02\n",
        "##Desenvolva um gerador de tabuada, capaz de gerar a tabuada de qualquer\n",
        "##número inteiro entre 1 a 10. O usuário deve informar de qual número ele deseja\n",
        "##ver a tabuada. A saída deve ser conforme o exemplo abaixo:"
      ],
      "metadata": {
        "id": "zagCYqDCHAks"
      }
    },
    {
      "cell_type": "code",
      "source": [
        "try:\n",
        "  num1 = int(input(\" Digite um numero \"))\n",
        "\n",
        "  for x in range(1,11):\n",
        "    print(f'{num1} x {x} é igual a {num1 * x}')\n",
        "\n",
        "\n",
        "except ValueError:\n",
        "  print(\"Digite um numero valido\")"
      ],
      "metadata": {
        "id": "_0OPJsiPHCQN"
      },
      "execution_count": null,
      "outputs": []
    },
    {
      "cell_type": "markdown",
      "source": [
        "Exercicio 03\n",
        "##O Sr. Manoel Joaquim expandiu seus negócios para além dos negócios de 1,99 e\n",
        "##agora possui uma loja de conveniências. Faça um programa que implemente uma\n",
        "##caixa registradora rudimentar. O programa deverá receber um número\n",
        "##desconhecido de valores referentes aos preços das mercadorias. Um valor zero\n",
        "##deve ser informado pelo operador para indicar o final da compra. O programa\n",
        "##deve então mostrar o total da compra e perguntar o valor em dinheiro que o\n",
        "##cliente forneceu, para então calcular e mostrar o valor do troco. Após esta\n",
        "##operação, o programa deverá voltar ao ponto inicial, para registrar a próxima\n",
        "##compra. A saída deve ser conforme o exemplo abaixo:"
      ],
      "metadata": {
        "id": "hfSiy136HCZ0"
      }
    },
    {
      "cell_type": "code",
      "source": [
        "products = [];\n",
        "totalPurchase = 0;\n",
        "\n",
        "while True:\n",
        "  try:\n",
        "    valueProduct = int(input(\" Digite o valor do produto \"))\n",
        "\n",
        "    if valueProduct < 0:\n",
        "      print('Valor não pode ser nagativo!!')\n",
        "    else:\n",
        "      products.append(valueProduct)\n",
        "\n",
        "    if valueProduct == 0:\n",
        "      for x in products:\n",
        "        totalPurchase += x\n",
        "\n",
        "      moneyReceived = int(input(\" Digite o valor do dinheiro recebido \"))\n",
        "      \n",
        "      thing = moneyReceived - totalPurchase\n",
        "\n",
        "      if moneyReceived < 0:\n",
        "        print(\"Valor invalido\")\n",
        "        moneyReceived = int(input(\" Digite o valor do dinheiro recebido \"))\n",
        "  \n",
        "      print(f'Valor total da compra: {totalPurchase}')\n",
        "\n",
        "      if thing > 0:\n",
        "        print(f'Valor do troco a ser retornado ao cliente: {thing}')\n",
        "      elif thing < 0:\n",
        "        print(f'Você ainda deve {abs(thing)} Reais')\n",
        "\n",
        "      break\n",
        "  except ValueError:\n",
        "    print(\"Digite um valor valido!\")\n",
        "  \n"
      ],
      "metadata": {
        "id": "kq61stW-HEoV"
      },
      "execution_count": null,
      "outputs": []
    },
    {
      "cell_type": "markdown",
      "source": [
        "Exercicio 04\n",
        "##Faça um programa para um caixa eletrônico. O programa deverá perguntar ao\n",
        "##usuário o valor do saque e depois informar quantas notas de cada valor serão\n",
        "##fornecidas. As notas disponíveis serão as de 1, 5, 10, 50 e 100 reais. O valor\n",
        "##mínimo é de 10 reais e o máximo de 600 reais. O programa não deve se\n",
        "##preocupar com a quantidade de notas existentes na máquina.\n",
        "##Exemplo 1: Para sacar a quantia de 256 reais, o programa fornece duas notas de\n",
        "##100, uma nota de 50, uma nota de 5 e uma nota de 1;\n",
        "##Exemplo 2: Para sacar a quantia de 399 reais, o programa fornece três notas de\n",
        "##100, uma nota de 50, quatro notas de 10, uma nota de 5 e quatro notas de 1."
      ],
      "metadata": {
        "id": "SJywheojHEzc"
      }
    },
    {
      "cell_type": "code",
      "source": [
        "while True:\n",
        "  try:\n",
        "    numero = int(input('Valor mínimo de saque 10 reais e valor máximo 600 Reias : '))\n",
        "\n",
        "    if numero < 10 or numero > 600:\n",
        "      print(\"Digite um entre 10 e 600 Reais!\")\n",
        "    else:\n",
        "      cem = int(numero / 100)\n",
        "      numero = numero % 100 \n",
        "\n",
        "      cinquenta = int(numero/50) \n",
        "      numero = numero % 50 \n",
        "\n",
        "      dez = int(numero/10) \n",
        "      numero = numero % 10 \n",
        "\n",
        "      cinco = int(numero/5) \n",
        "      numero = numero % 5 \n",
        "\n",
        "      um = numero \n",
        "\n",
        "      print('------------------')\n",
        "\n",
        "      print(f'Total de Cédulas de R$100,00, a ser recebidas: {cem}')\n",
        "      print(f'Total de Cédulas de R$50,00, a ser recebidas: {cinquenta}')\n",
        "      print(f'Total de Cédulas de R$10,00, a ser recebidas: {dez}')\n",
        "      print(f'Total de Cédulas de R$5,00, a ser recebidas: {cinco}')\n",
        "      print(f'Total de Cédulas de R$1,00, a ser recebidas: {um}')\n",
        "      break\n",
        "  except ValueError:\n",
        "    print('Digite um valor valido')\n"
      ],
      "metadata": {
        "id": "00njI7lgHGXV"
      },
      "execution_count": null,
      "outputs": []
    }
  ]
}